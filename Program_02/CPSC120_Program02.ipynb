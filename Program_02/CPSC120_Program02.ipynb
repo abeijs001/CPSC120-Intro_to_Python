{
 "cells": [
  {
   "cell_type": "markdown",
   "metadata": {},
   "source": [
    "# CPSC120: Program 2 - Variable and Basic Operations\n",
    "\n",
    "In this programming assignment you will complete the following tasks with python. \n"
   ]
  },
  {
   "cell_type": "markdown",
   "metadata": {},
   "source": [
    "## Task 1: Fill in the missing code \n",
    "\n",
    "Replace *** in the following code with a statement that\n",
    "will print a message like **'Congratulations! Your grade of 91 earns you an A in this\n",
    "course'**. Your statement should print the value stored in the variable grade:"
   ]
  },
  {
   "cell_type": "code",
   "execution_count": null,
   "metadata": {},
   "outputs": [],
   "source": [
    "grade = 91\n",
    "if grade >= 90:\n",
    "    ***"
   ]
  },
  {
   "cell_type": "markdown",
   "metadata": {},
   "source": [
    "**Expected Output**: \n",
    "<table >\n",
    "    <tr> \n",
    "        <td>'Congratulations! Your grade of 91 earns you an A in this course'</td> \n",
    "    </tr>\n",
    "</table> "
   ]
  },
  {
   "cell_type": "markdown",
   "metadata": {},
   "source": [
    "## Task 2: (Circle Area, Diameter and Circumference) \n",
    "\n",
    "For a circle of radius 2, display the diameter, circumference and area. Use the value 3.14159 for PI. Use the following formulas (r is the radius): \n",
    "- diameter = 2 * r\n",
    "- circumference = 2 * PI * r\n",
    "- area = PI * r * r"
   ]
  },
  {
   "cell_type": "code",
   "execution_count": null,
   "metadata": {
    "tags": []
   },
   "outputs": [],
   "source": [
    "pi = 3.14159\n",
    "radius = 2\n",
    "\n",
    "# your code below\n",
    "\n",
    "\n"
   ]
  },
  {
   "cell_type": "raw",
   "metadata": {},
   "source": [
    "**Expected Output**: \n",
    "\n",
    "Diameter = 4.00\n",
    "Circumference = 12.57\n",
    "Area = 12.57"
   ]
  },
  {
   "cell_type": "markdown",
   "metadata": {},
   "source": [
    "## Task 3: (Table of Squares and Cubes) \n",
    "\n",
    "Write a script that calculates the squares and cubes of the numbers from 0 to 5. Print the resulting values in table format, as shown below. Use the tab escape sequence to achieve the three-column output."
   ]
  },
  {
   "cell_type": "code",
   "execution_count": null,
   "metadata": {},
   "outputs": [],
   "source": [
    "# your code below\n",
    "\n",
    "\n",
    "\n"
   ]
  },
  {
   "cell_type": "raw",
   "metadata": {},
   "source": [
    "**Expected Output**: \n",
    "\n",
    "number\t square\t cube\n",
    "0 \t      0 \t 0\n",
    "1 \t      1 \t 1\n",
    "2 \t      4 \t 8\n",
    "3 \t      9 \t 27\n",
    "4 \t     16 \t 64\n",
    "5 \t     25 \t 125"
   ]
  },
  {
   "cell_type": "code",
   "execution_count": null,
   "metadata": {},
   "outputs": [],
   "source": []
  }
 ],
 "metadata": {
  "coursera": {
   "course_slug": "python-text-mining",
   "graded_item_id": "r35En",
   "launcher_item_id": "tCVfW",
   "part_id": "NTVgL"
  },
  "kernelspec": {
   "display_name": "Python 3 (ipykernel)",
   "language": "python",
   "name": "python3"
  },
  "language_info": {
   "codemirror_mode": {
    "name": "ipython",
    "version": 3
   },
   "file_extension": ".py",
   "mimetype": "text/x-python",
   "name": "python",
   "nbconvert_exporter": "python",
   "pygments_lexer": "ipython3",
   "version": "3.11.7"
  }
 },
 "nbformat": 4,
 "nbformat_minor": 4
}
