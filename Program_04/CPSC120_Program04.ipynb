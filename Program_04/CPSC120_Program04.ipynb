{
 "cells": [
  {
   "cell_type": "markdown",
   "metadata": {},
   "source": [
    "# CPSC120: Program 04 - Loops \n",
    "\n",
    "In this programming assignment you will complete the following tasks with python. \n"
   ]
  },
  {
   "cell_type": "markdown",
   "metadata": {},
   "source": [
    "## Task 1: (Factorials)  \n",
    "\n",
    "Factorial calculations are common in probability. The factorial of a nonnegative integer n is written n! (pronounced “n factorial”) and is defined as follows:\n",
    "\n",
    "       n! = n*(n-1)*(n-2)*...*1\n",
    "       \n",
    "for values of n greater than or equal to 1, with 0! defined to be 1. So,\n",
    "\n",
    "        5!=  5*4*3*2*1\n",
    "\n",
    "which is 120. Factorials increase in size very rapidly. Write a script that inputs a nonnegative integer and computes and displays its factorial. \n"
   ]
  },
  {
   "cell_type": "code",
   "execution_count": null,
   "metadata": {
    "tags": []
   },
   "outputs": [],
   "source": [
    "# your source code below\n",
    "\n",
    "\n",
    "\n",
    "\n",
    "\n",
    "\n",
    "\n",
    "\n",
    "\n",
    "\n"
   ]
  },
  {
   "cell_type": "code",
   "execution_count": null,
   "metadata": {},
   "outputs": [],
   "source": []
  },
  {
   "cell_type": "raw",
   "metadata": {},
   "source": [
    "**Expected Input and Output**:\n",
    "\n",
    "Enter a non-negative integer:  5\r\n",
    "5! is 120"
   ]
  },
  {
   "cell_type": "markdown",
   "metadata": {},
   "source": [
    "## Task 2: (Nested Loops)  \n",
    "\n",
    "Write a script that displays the following triangle patterns separately, one below the other. Separate each pattern from the next by one blank line. Use  loops to generate the patterns. Display all asterisks () with a single statement of the formwhich causes the asterisks to display side by side."
   ]
  },
  {
   "cell_type": "code",
   "execution_count": null,
   "metadata": {},
   "outputs": [],
   "source": []
  },
  {
   "cell_type": "code",
   "execution_count": null,
   "metadata": {
    "tags": []
   },
   "outputs": [],
   "source": [
    "# your source code below\n",
    "\n",
    "\n",
    "\n",
    "\n",
    "\n",
    "\n",
    "\n",
    "\n",
    "\n",
    "\n"
   ]
  },
  {
   "cell_type": "raw",
   "metadata": {},
   "source": [
    "**Expected Output**: \n",
    "\n",
    "*\r\n",
    "**\r\n",
    "***\r\n",
    "****\r\n",
    "*****\r\n",
    "******\r\n",
    "*******\r\n",
    "********\r\n",
    "*********\r\n",
    "**********\r\n",
    "\r\n",
    "**********\r\n",
    "*********\r\n",
    "********\r\n",
    "*******\r\n",
    "******\r\n",
    "*****\r\n",
    "****\r\n",
    "***\r\n",
    "**\r\n",
    "*"
   ]
  },
  {
   "cell_type": "code",
   "execution_count": null,
   "metadata": {},
   "outputs": [],
   "source": []
  }
 ],
 "metadata": {
  "coursera": {
   "course_slug": "python-text-mining",
   "graded_item_id": "r35En",
   "launcher_item_id": "tCVfW",
   "part_id": "NTVgL"
  },
  "kernelspec": {
   "display_name": "Python 3 (ipykernel)",
   "language": "python",
   "name": "python3"
  },
  "language_info": {
   "codemirror_mode": {
    "name": "ipython",
    "version": 3
   },
   "file_extension": ".py",
   "mimetype": "text/x-python",
   "name": "python",
   "nbconvert_exporter": "python",
   "pygments_lexer": "ipython3",
   "version": "3.11.7"
  }
 },
 "nbformat": 4,
 "nbformat_minor": 4
}
