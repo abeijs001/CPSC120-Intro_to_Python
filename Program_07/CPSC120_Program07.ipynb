{
 "cells": [
  {
   "cell_type": "markdown",
   "metadata": {},
   "source": [
    "# CPSC120: Program 07 - Functions-2 \n",
    "\n",
    "In this programming assignment you Implement a \"Guess the Number\" game in Python where the computer selects a random number between 1 and 1000, and the player has to guess it. The game provides feedback on whether the guessed number is too high or too low, guiding the player towards the correct answer. When the player guesses correctly, they are congratulated and given the option to play again."
   ]
  },
  {
   "cell_type": "markdown",
   "metadata": {},
   "source": [
    "## Task 1: Function to Generate a Random Number\n",
    "\n",
    "- Use the random module to select a random integer between 1 and 1000.\n",
    "- This number will be the target that the player tries to guess."
   ]
  },
  {
   "cell_type": "code",
   "execution_count": null,
   "metadata": {},
   "outputs": [],
   "source": [
    "import random\n",
    "\n",
    "def get_number():\n",
    "    \"\"\"\n",
    "    Create a new number to guess.\n",
    "    Returns:\n",
    "        int: A random integer between 1 and 1000.\n",
    "    \"\"\"\n",
    "\n",
    "    # your source code below\n",
    "\n",
    "\n",
    "\n",
    "\n"
   ]
  },
  {
   "cell_type": "code",
   "execution_count": null,
   "metadata": {},
   "outputs": [],
   "source": [
    "get_number()"
   ]
  },
  {
   "cell_type": "raw",
   "metadata": {},
   "source": [
    "**Possible Outputs (any number bewteen 1-1000)**: \n",
    "51\n",
    "873\n",
    "128\n",
    "395"
   ]
  },
  {
   "cell_type": "markdown",
   "metadata": {},
   "source": [
    "## A Function to Start a New Game:\n",
    "\n",
    "Print a welcome message: \"Guess a number between 1 and 1000\".\n",
    "Generate and store the random number for this game session"
   ]
  },
  {
   "cell_type": "code",
   "execution_count": null,
   "metadata": {},
   "outputs": [],
   "source": [
    "def new_game():\n",
    "    \"\"\"\n",
    "    Start a new game.\n",
    "    Returns:\n",
    "        int: The target number to be guessed.\n",
    "    \"\"\"\n",
    "    print('Guess a number between 1 and 1000')\n",
    "    return get_number()"
   ]
  },
  {
   "cell_type": "code",
   "execution_count": null,
   "metadata": {},
   "outputs": [],
   "source": [
    "new_game()"
   ]
  },
  {
   "cell_type": "raw",
   "metadata": {},
   "source": [
    "**Possible Output**: \n",
    "\n",
    "Guess a number between 1 and 1000\n",
    "68"
   ]
  },
  {
   "cell_type": "markdown",
   "metadata": {},
   "source": [
    "## Task 2: A function to Compare Guess and Answer\n",
    "\n",
    "The function provides feedback:\n",
    "- If the guess is too low, print \"<guess> is too low. Try again.\" and return False\n",
    "- If the guess is too high, print \"<guess> is too high. Try again.\" and return False\n",
    "- If the guess is correct, print \"Congratulations. You guessed the number!\" and return True."
   ]
  },
  {
   "cell_type": "code",
   "execution_count": null,
   "metadata": {},
   "outputs": [],
   "source": [
    "def check_guess(guess, answer):\n",
    "    \"\"\"\n",
    "    Check the user's guess against the target number.\n",
    "    Args:\n",
    "        guess (int): The player's guessed number.\n",
    "        answer (int): The target number.\n",
    "    Returns:\n",
    "        bool: True if the guess is correct, False otherwise.\n",
    "    \"\"\"\n",
    "   # your source code below\n",
    "\n",
    "\n",
    "\n"
   ]
  },
  {
   "cell_type": "code",
   "execution_count": null,
   "metadata": {},
   "outputs": [],
   "source": [
    "check_guess(99,100)\n",
    "check_guess(101,100)\n",
    "check_guess(100,100)"
   ]
  },
  {
   "cell_type": "raw",
   "metadata": {},
   "source": [
    "**Expected Output**: \n",
    "\n",
    "99 is too low. Try again.\r\n",
    "101 is too high. Try again.\r\n",
    "Congratulations. You guessed the number!\r\n",
    "True"
   ]
  },
  {
   "cell_type": "markdown",
   "metadata": {},
   "source": [
    "## The Complete Program: \n",
    "\n",
    "- Continuously prompt the player to guess the number.\n",
    "- After each guess, check if the guessed number is less than, greater than, or equal to the target number.\n",
    "- Provide feedback:\n",
    "    - If the guess is too low, print \"<guess> is too low. Try again.\"\n",
    "    - If the guess is too high, print \"<guess> is too high. Try again.\"\n",
    "    - If the guess is correct, print \"Congratulations. You guessed the number!\" and break out of the loop.\n",
    "- After a correct guess, ask the player if they want to play again: \"Play again (yes or no)? \".\n",
    "- If the player inputs \"yes\", start a new game.\n",
    "- If the player inputs \"no\", set a flag to end the game."
   ]
  },
  {
   "cell_type": "code",
   "execution_count": null,
   "metadata": {},
   "outputs": [],
   "source": [
    "\"\"\"\n",
    "Main game loop to control the flow of the game.\n",
    "\"\"\"\n",
    "game_over = False    \n",
    "while not game_over:\n",
    "    answer = new_game()\n",
    "    correct = False\n",
    "    \n",
    "    while not correct:\n",
    "        try:\n",
    "            guess = int(input('Guess (1 - 1000): '))\n",
    "            correct = check_guess(guess, answer)\n",
    "        except ValueError:\n",
    "            print(\"Please enter a valid integer.\")\n",
    "\n",
    "    play_again = input('\\nPlay again (yes or no)? ').strip().lower()\n",
    "    if play_again != 'yes': \n",
    "        game_over = True\n",
    "\n",
    "print('Thanks for playing!')"
   ]
  },
  {
   "cell_type": "code",
   "execution_count": null,
   "metadata": {},
   "outputs": [],
   "source": []
  },
  {
   "cell_type": "raw",
   "metadata": {},
   "source": [
    "**Sample Output**: \n",
    "\n",
    "Guess (1 - 1000):  501\r\n",
    "501 is too high. Try again.\r\n",
    "Guess (1 - 1000):  300\r\n",
    "300 is too high. Try again.\r\n",
    "Guess (1 - 1000):  200\r\n",
    "200 is too high. Try again.\r\n",
    "Guess (1 - 1000):  100\r\n",
    "100 is too high. Try again.\r\n",
    "Guess (1 - 1000):  50\r\n",
    "50 is too low. Try again.\r\n",
    "Guess (1 - 1000):  70\r\n",
    "70 is too low. Try again.\r\n",
    "Guess (1 - 1000):  75\r\n",
    "75 is too low. Try again.\r\n",
    "Guess (1 - 1000):  78\r\n",
    "78 is too low. Try again.\r\n",
    "Guess (1 - 1000):  80\r\n",
    "80 is too low. Try again.\r\n",
    "Guess (1 - 1000):  85\r\n",
    "85 is too low. Try again.\r\n",
    "Guess (1 - 1000):  88\r\n",
    "88 is too low. Try again.\r\n",
    "Guess (1 - 1000):  95\r\n",
    "95 is too high. Try again.\r\n",
    "Guess (1 - 1000):  92\r\n",
    "92 is too high. Try again.\r\n",
    "Guess (1 - 1000):  90\r\n",
    "90 is too high. Try again.\r\n",
    "Guess (1 - 1000):  89\r\n",
    "Congratulat\n",
    "iPlay again (yes or no)?  no\n",
    "Thanks for playing!ons. You guessed the number!\r\n"
   ]
  },
  {
   "cell_type": "code",
   "execution_count": null,
   "metadata": {},
   "outputs": [],
   "source": []
  }
 ],
 "metadata": {
  "coursera": {
   "course_slug": "python-text-mining",
   "graded_item_id": "r35En",
   "launcher_item_id": "tCVfW",
   "part_id": "NTVgL"
  },
  "kernelspec": {
   "display_name": "Python 3 (ipykernel)",
   "language": "python",
   "name": "python3"
  },
  "language_info": {
   "codemirror_mode": {
    "name": "ipython",
    "version": 3
   },
   "file_extension": ".py",
   "mimetype": "text/x-python",
   "name": "python",
   "nbconvert_exporter": "python",
   "pygments_lexer": "ipython3",
   "version": "3.11.7"
  }
 },
 "nbformat": 4,
 "nbformat_minor": 4
}
