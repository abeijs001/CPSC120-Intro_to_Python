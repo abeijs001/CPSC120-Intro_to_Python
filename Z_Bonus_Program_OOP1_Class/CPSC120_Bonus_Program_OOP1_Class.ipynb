{
 "cells": [
  {
   "cell_type": "markdown",
   "metadata": {},
   "source": [
    "# CPSC120: Bonus Program - OOP1: Square Class\n",
    "\n",
    "In this programming assignment you will complete the following tasks with python. "
   ]
  },
  {
   "cell_type": "markdown",
   "metadata": {},
   "source": [
    "## Task 1: (Square Class) \n",
    "\n",
    "Write a class that implements a Square shape. \n",
    "\n",
    "- The class should contain a side property. \n",
    "- The class should have an __init__ method that takes the side length as an argument. \n",
    "- The class should have the following read-only properties: \n",
    "  - perimeter returns  4 × side. \n",
    "  - area returns  side × side. \n",
    "  - diagonal returns the square root of the expression  2 x side.\n",
    "- The class should have __repr__ method to represent object information.\n",
    "\n",
    "The perimeter,  area and  diagonal should not have corresponding data attributes; rather, they should use side in calculations that return the desired values. "
   ]
  },
  {
   "cell_type": "code",
   "execution_count": 1,
   "metadata": {},
   "outputs": [
    {
     "data": {
      "text/plain": [
       "'Square class definition.'"
      ]
     },
     "execution_count": 1,
     "metadata": {},
     "output_type": "execute_result"
    }
   ],
   "source": [
    "# your Square class definition below\n",
    "\n",
    "\"\"\"Square class definition.\"\"\"\n",
    "\n",
    "\n",
    "\n"
   ]
  },
  {
   "cell_type": "raw",
   "metadata": {},
   "source": [
    "**Sample input**: \n"
   ]
  },
  {
   "cell_type": "code",
   "execution_count": null,
   "metadata": {},
   "outputs": [],
   "source": []
  },
  {
   "cell_type": "markdown",
   "metadata": {},
   "source": [
    "## Task 2 (Testing Square Class): \n",
    "\n",
    "Create a Square object (side=10) and display its object, perimeter,  area and  diagonal properties’ values."
   ]
  },
  {
   "cell_type": "code",
   "execution_count": null,
   "metadata": {},
   "outputs": [],
   "source": []
  },
  {
   "cell_type": "code",
   "execution_count": 2,
   "metadata": {},
   "outputs": [],
   "source": [
    "# your testing code below\n",
    "\n",
    "\n",
    "\n",
    "\n",
    "\n",
    "\n"
   ]
  },
  {
   "cell_type": "code",
   "execution_count": null,
   "metadata": {},
   "outputs": [],
   "source": []
  },
  {
   "cell_type": "raw",
   "metadata": {},
   "source": [
    "**Expected Output**: \n",
    "\n",
    "object:  Square(side=10)\n",
    "Side:  10\n",
    "Area:  100\n",
    "Perimeter:  40\n",
    "Diagonal:  14.142135623730951"
   ]
  }
 ],
 "metadata": {
  "coursera": {
   "course_slug": "python-text-mining",
   "graded_item_id": "r35En",
   "launcher_item_id": "tCVfW",
   "part_id": "NTVgL"
  },
  "kernelspec": {
   "display_name": "Python 3",
   "language": "python",
   "name": "python3"
  },
  "language_info": {
   "codemirror_mode": {
    "name": "ipython",
    "version": 3
   },
   "file_extension": ".py",
   "mimetype": "text/x-python",
   "name": "python",
   "nbconvert_exporter": "python",
   "pygments_lexer": "ipython3",
   "version": "3.11.5"
  }
 },
 "nbformat": 4,
 "nbformat_minor": 4
}
