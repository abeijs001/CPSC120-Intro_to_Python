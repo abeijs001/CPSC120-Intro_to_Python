{
 "cells": [
  {
   "cell_type": "markdown",
   "metadata": {},
   "source": [
    "# CPSC120: Program 08 - Lists \n",
    "\n",
    "In this programming assignment you will complete the following tasks with python. \n"
   ]
  },
  {
   "cell_type": "markdown",
   "metadata": {},
   "source": [
    "## Task 1: (Duplicate Elimination) \n",
    "\n",
    "Create a function that receives a list and returns a (possibly shorter) list containing only the unique values in sorted order. Test your function with a list of numbers and a list of strings."
   ]
  },
  {
   "cell_type": "code",
   "execution_count": 14,
   "metadata": {},
   "outputs": [],
   "source": [
    "def unique(values):\n",
    "    # your source code below :(notice you should remove pass when implementing)\n",
    "    pass\n",
    "\n",
    "\n",
    "\n"
   ]
  },
  {
   "cell_type": "code",
   "execution_count": 15,
   "metadata": {},
   "outputs": [
    {
     "name": "stdout",
     "output_type": "stream",
     "text": [
      "None\n",
      "None\n"
     ]
    }
   ],
   "source": [
    "numbers = [11, 11, 2, 2, 7, 7, 5, 5, 3, 3]\n",
    "print(unique(numbers))\n",
    "\n",
    "colors = ['red', 'red', 'orange', 'orange', 'yellow', 'yellow', 'green', 'green']\n",
    "print(unique(colors))"
   ]
  },
  {
   "cell_type": "raw",
   "metadata": {},
   "source": [
    "**Expected Output**: \n",
    "\n",
    "[2, 3, 5, 7, 11]\n",
    "['green', 'orange', 'red', 'yellow']"
   ]
  },
  {
   "cell_type": "code",
   "execution_count": null,
   "metadata": {},
   "outputs": [],
   "source": []
  },
  {
   "cell_type": "markdown",
   "metadata": {},
   "source": [
    "## Task 2:  (Slicing) \n",
    "\n",
    "Create a string called  containing , then perform the following separate slice operations to obtain: \n",
    "- a. The first half of the string using starting and ending indices.\n",
    "- b. The second half of the string using starting and ending indices.\n",
    "- c. The second half of the string using only the starting index.\n",
    "- d. Every second letter in the string starting with a.\n",
    "- e. The entire string in reverse"
   ]
  },
  {
   "cell_type": "code",
   "execution_count": 16,
   "metadata": {},
   "outputs": [],
   "source": [
    "alphabet = 'abcdefghijklmnopqrstuvwxyz'\n",
    "\n",
    "#a. The first half of the string using starting and ending indices.\n",
    "#b. The second half of the string using starting and ending indices.\n",
    "#c. The second half of the string using only the starting index.\n",
    "#d. Every second letter in the string starting with a.\n",
    "#e. The entire string in reverse\n",
    "\n",
    "# your source code below\n",
    "\n",
    "\n",
    "\n",
    "\n"
   ]
  },
  {
   "cell_type": "raw",
   "metadata": {},
   "source": [
    "**Expected Outputs **: \n",
    "\n",
    "a. 'abcdefghijklm'\n",
    "b. 'nopqrstuvwxyz'\n",
    "c. 'nopqrstuvwxyz'\n",
    "d. 'acegikmoqsuwy'\n",
    "e. 'zyxwvutsrqponmlkjihgfedcba'"
   ]
  },
  {
   "cell_type": "code",
   "execution_count": null,
   "metadata": {},
   "outputs": [],
   "source": []
  },
  {
   "cell_type": "code",
   "execution_count": null,
   "metadata": {},
   "outputs": [],
   "source": []
  }
 ],
 "metadata": {
  "coursera": {
   "course_slug": "python-text-mining",
   "graded_item_id": "r35En",
   "launcher_item_id": "tCVfW",
   "part_id": "NTVgL"
  },
  "kernelspec": {
   "display_name": "Python 3 (ipykernel)",
   "language": "python",
   "name": "python3"
  },
  "language_info": {
   "codemirror_mode": {
    "name": "ipython",
    "version": 3
   },
   "file_extension": ".py",
   "mimetype": "text/x-python",
   "name": "python",
   "nbconvert_exporter": "python",
   "pygments_lexer": "ipython3",
   "version": "3.11.7"
  }
 },
 "nbformat": 4,
 "nbformat_minor": 4
}
