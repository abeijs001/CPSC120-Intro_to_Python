{
 "cells": [
  {
   "cell_type": "markdown",
   "metadata": {},
   "source": [
    "# CPSC120: Program 05 - Logical Operators\n",
    "\n",
    "In this programming assignment you will complete the following tasks with python. "
   ]
  },
  {
   "cell_type": "markdown",
   "metadata": {},
   "source": [
    "## Task 1: User Authentication\n",
    "\n",
    "Write a script to ask a user to enter username and password, check and print out user authentication information. Specifically, if the user's inputs match the hardcoded credentials (username = 'user123', and password='pass123'), then print out **User authenticated successfully**, otherwise, print out **Authentication failed.**."
   ]
  },
  {
   "cell_type": "code",
   "execution_count": null,
   "metadata": {},
   "outputs": [],
   "source": []
  },
  {
   "cell_type": "code",
   "execution_count": null,
   "metadata": {
    "tags": []
   },
   "outputs": [],
   "source": [
    "# your source code below\n",
    "\n",
    "\n",
    "\n",
    "\n",
    "\n",
    "\n",
    "\n",
    "\n",
    "\n",
    "\n"
   ]
  },
  {
   "cell_type": "raw",
   "metadata": {},
   "source": [
    "**Possible Outputs**: \n",
    "\n",
    "Enter user name:  user123\n",
    "Enter password:  pass123\n",
    "User authenticated successfully.\n",
    "\n",
    "Enter user name:  user1234\n",
    "Enter password:  pass123\n",
    "Authentication failed.False"
   ]
  },
  {
   "cell_type": "markdown",
   "metadata": {},
   "source": [
    "## Task 2: Input Validation\n",
    "\n",
    "Write a script to ask a user to enter age and country, check and print out user validation information. Specifically, It will print **validation successful** if the user is an adult (age >= 18) and if they are from an allowed country (USA, Canada, UK), otherwise, it print out **validation failed**\n",
    "\n",
    "Note: User can enter upper/lowercase country information, so either USA, usa or Usa are okay."
   ]
  },
  {
   "cell_type": "code",
   "execution_count": null,
   "metadata": {},
   "outputs": [],
   "source": []
  },
  {
   "cell_type": "code",
   "execution_count": null,
   "metadata": {
    "tags": []
   },
   "outputs": [],
   "source": [
    "# your source code below\n",
    "\n",
    "\n",
    "\n",
    "\n",
    "\n",
    "\n",
    "\n",
    "\n",
    "\n",
    "\n"
   ]
  },
  {
   "cell_type": "raw",
   "metadata": {},
   "source": [
    "**Possible Outputs**: \n",
    "\n",
    "Enter age:  20\r\n",
    "Enter country:  usa\r\n",
    "Input validation successfu\n",
    "\n",
    "Enter age:  20\r\n",
    "Enter country:  usb\r\n",
    "Input validation fai\n",
    "\n",
    "led.Enter age:  20\r\n",
    "Enter country:  china\r\n",
    "Input validation fad.\r\n",
    "\n",
    "l."
   ]
  },
  {
   "cell_type": "code",
   "execution_count": null,
   "metadata": {},
   "outputs": [],
   "source": []
  }
 ],
 "metadata": {
  "coursera": {
   "course_slug": "python-text-mining",
   "graded_item_id": "r35En",
   "launcher_item_id": "tCVfW",
   "part_id": "NTVgL"
  },
  "kernelspec": {
   "display_name": "Python 3 (ipykernel)",
   "language": "python",
   "name": "python3"
  },
  "language_info": {
   "codemirror_mode": {
    "name": "ipython",
    "version": 3
   },
   "file_extension": ".py",
   "mimetype": "text/x-python",
   "name": "python",
   "nbconvert_exporter": "python",
   "pygments_lexer": "ipython3",
   "version": "3.11.7"
  }
 },
 "nbformat": 4,
 "nbformat_minor": 4
}
