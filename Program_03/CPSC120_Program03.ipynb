{
 "cells": [
  {
   "cell_type": "markdown",
   "metadata": {},
   "source": [
    "# CPSC120: Program  03 - Decision \n",
    "\n",
    "In this programming assignment you will complete the following tasks with python. \n"
   ]
  },
  {
   "cell_type": "markdown",
   "metadata": {},
   "source": [
    "## Task 1: (Arithmetic, Smallest and Largest) \n",
    "\n",
    "Write a script that input three integers (using 15,10,20 for the testing purpose), then displayed the sum, average, product, smallest and largest of those values."
   ]
  },
  {
   "cell_type": "code",
   "execution_count": 1,
   "metadata": {
    "tags": []
   },
   "outputs": [],
   "source": [
    "# your source code below\n",
    "\n",
    "\n",
    "\n",
    "\n",
    "\n",
    "\n",
    "\n",
    "\n",
    "\n",
    "\n"
   ]
  },
  {
   "cell_type": "code",
   "execution_count": null,
   "metadata": {},
   "outputs": [],
   "source": []
  },
  {
   "cell_type": "raw",
   "metadata": {},
   "source": [
    "**Expected Output**: \n",
    "\n",
    "Enter first integer:  15\n",
    "Enter second integer:  10\n",
    "Enter third integer:  20\n",
    "Sum: 45\n",
    "Average: 15.0\n",
    "Product: 3000\n",
    "Smallest: 10\n",
    "Largest: 20"
   ]
  },
  {
   "cell_type": "markdown",
   "metadata": {},
   "source": [
    "## Task 2: \n",
    "\n",
    "Write a script that input an age (using 10,40, 80 for the testing purpose), then displayed the price ticket.\n",
    "\n",
    "Below is criteria:\n",
    "age<12, price =50\n",
    "age>70, price = 70\n",
    "other age range, price=100"
   ]
  },
  {
   "cell_type": "code",
   "execution_count": 2,
   "metadata": {},
   "outputs": [],
   "source": [
    "# your source code below\n",
    "\n",
    "\n",
    "\n",
    "\n",
    "\n"
   ]
  },
  {
   "cell_type": "code",
   "execution_count": null,
   "metadata": {},
   "outputs": [],
   "source": []
  },
  {
   "cell_type": "raw",
   "metadata": {},
   "source": [
    "** Sample results **: \n",
    "\n",
    "Enter your age:  10\n",
    "The price of your ticket is: 50\n",
    "\n",
    "Enter your age:  40\n",
    "The price of your ticket is: 100\n",
    "\n",
    "Enter your age:  80\n",
    "The price of your ticket is: 70"
   ]
  },
  {
   "cell_type": "code",
   "execution_count": null,
   "metadata": {},
   "outputs": [],
   "source": []
  }
 ],
 "metadata": {
  "coursera": {
   "course_slug": "python-text-mining",
   "graded_item_id": "r35En",
   "launcher_item_id": "tCVfW",
   "part_id": "NTVgL"
  },
  "kernelspec": {
   "display_name": "Python 3 (ipykernel)",
   "language": "python",
   "name": "python3"
  },
  "language_info": {
   "codemirror_mode": {
    "name": "ipython",
    "version": 3
   },
   "file_extension": ".py",
   "mimetype": "text/x-python",
   "name": "python",
   "nbconvert_exporter": "python",
   "pygments_lexer": "ipython3",
   "version": "3.11.7"
  }
 },
 "nbformat": 4,
 "nbformat_minor": 4
}
