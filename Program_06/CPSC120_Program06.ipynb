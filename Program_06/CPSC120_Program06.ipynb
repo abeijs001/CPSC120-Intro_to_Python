{
 "cells": [
  {
   "cell_type": "markdown",
   "metadata": {},
   "source": [
    "# CPSC120: Program 06 - Function \n",
    "\n",
    "In this programming assignment you will complete the following tasks with python. \n"
   ]
  },
  {
   "cell_type": "markdown",
   "metadata": {},
   "source": [
    "## Task 1: Find Maximum of Three Numbers\n",
    "\n",
    "Write a function *find_maximum_of_three* that takes three numbers as input and returns the maximum of the three."
   ]
  },
  {
   "cell_type": "code",
   "execution_count": 5,
   "metadata": {},
   "outputs": [],
   "source": [
    "def find_maximum_of_three(a, b, c):\n",
    "    \"\"\"\n",
    "    Find the maximum element among three numbers.\n",
    "\n",
    "    Args:\n",
    "        a (int/float): The first number.\n",
    "        b (int/float): The second number.\n",
    "        c (int/float): The third number.\n",
    "\n",
    "    Returns:\n",
    "        int/float: The maximum value among the three numbers.\n",
    "    \"\"\"\n",
    "    \n",
    "    # your source code below\n",
    "\n",
    "\n",
    "\n",
    "\n"
   ]
  },
  {
   "cell_type": "code",
   "execution_count": 6,
   "metadata": {},
   "outputs": [
    {
     "name": "stdout",
     "output_type": "stream",
     "text": [
      "None\n",
      "None\n",
      "None\n"
     ]
    }
   ],
   "source": [
    "# Example usage\n",
    "print(find_maximum_of_three(3, 7, 5))  # Output: 7\n",
    "print(find_maximum_of_three(10, 2, 10))  # Output: 10\n",
    "print(find_maximum_of_three(-1, -5, -3))  # Output: -1"
   ]
  },
  {
   "cell_type": "raw",
   "metadata": {},
   "source": [
    "**Expected Output**: \n",
    "\n",
    "7\r\n",
    "10\r\n",
    "-1"
   ]
  },
  {
   "cell_type": "markdown",
   "metadata": {},
   "source": [
    "## Task 2: (Temperature Conversion) \n",
    "\n",
    "Implement a  function that returns the Fahrenheit equivalent of a Celsius temperature. Use the following formula:\n",
    "\n",
    "    F = (9/5)*C+32\n",
    "\n",
    "Use this function to print a chart showing the Fahrenheit equivalents of all Celsius temperatures in the range 0-10 degrees. Use one digit of precision for the results. Print the outputs in a neat tabular format."
   ]
  },
  {
   "cell_type": "code",
   "execution_count": 7,
   "metadata": {},
   "outputs": [],
   "source": [
    "# your function here \n",
    "# your source code below\n",
    "\n",
    "\n",
    "\n",
    "\n"
   ]
  },
  {
   "cell_type": "code",
   "execution_count": 8,
   "metadata": {},
   "outputs": [],
   "source": [
    "# print out celsius and corresponding Fahrenheit degree (call your function above) in two columns\n",
    "\n",
    "\n",
    "\r\n"
   ]
  },
  {
   "cell_type": "code",
   "execution_count": null,
   "metadata": {},
   "outputs": [],
   "source": []
  },
  {
   "cell_type": "raw",
   "metadata": {},
   "source": [
    "**Expected Output**: \n",
    "\n",
    "Celsius  Fahrenheit\r\n",
    "    0      32.0\r\n",
    "    1      33.8\r\n",
    "    2      35.6\r\n",
    "    3      37.4\r\n",
    "    4      39.2\r\n",
    "    5      41.0\r\n",
    "    6      42.8\r\n",
    "    7      44.6\r\n",
    "    8      46.4\r\n",
    "    9      48.2\r\n",
    "   10      50.0"
   ]
  },
  {
   "cell_type": "code",
   "execution_count": null,
   "metadata": {},
   "outputs": [],
   "source": []
  }
 ],
 "metadata": {
  "coursera": {
   "course_slug": "python-text-mining",
   "graded_item_id": "r35En",
   "launcher_item_id": "tCVfW",
   "part_id": "NTVgL"
  },
  "kernelspec": {
   "display_name": "Python 3 (ipykernel)",
   "language": "python",
   "name": "python3"
  },
  "language_info": {
   "codemirror_mode": {
    "name": "ipython",
    "version": 3
   },
   "file_extension": ".py",
   "mimetype": "text/x-python",
   "name": "python",
   "nbconvert_exporter": "python",
   "pygments_lexer": "ipython3",
   "version": "3.11.7"
  }
 },
 "nbformat": 4,
 "nbformat_minor": 4
}
