{
 "cells": [
  {
   "cell_type": "markdown",
   "metadata": {},
   "source": [
    "# CPSC120: Bonus Program -  Pandas Series and DataFrame\n",
    "\n",
    "In this programming assignment you will complete the following tasks with python. "
   ]
  },
  {
   "cell_type": "code",
   "execution_count": 12,
   "metadata": {},
   "outputs": [],
   "source": [
    "import numpy as np\n",
    "\n",
    "import pandas as pd"
   ]
  },
  {
   "cell_type": "markdown",
   "metadata": {},
   "source": [
    "## Task 1: (Pandas: Series) \n",
    "\n",
    "Perform the following tasks with pandas Series:\n",
    "\n",
    "1. Create a  Series from the list [7, 11, 13, 17]\n",
    "2. Create a  Series with five elements that are all 100.0.\n",
    "3. Create a  with 20 elements that are all random numbers in the range  0 to 100. Use method *describe* to produce the Series’ basic descriptive statistics.\n",
    "4. Create a Series called  *temperatures* of the floating-point values 98.6, 98.9, 100.2, and 97.9. Using the  *index* keyword argument, specify the custom indices 'Julie', 'Charlie', 'Sam', and 'Andrea'.\n",
    "5. Form a dictionary from the names and values in Part (d), then use it to initialize a Series.\n"
   ]
  },
  {
   "cell_type": "code",
   "execution_count": 13,
   "metadata": {},
   "outputs": [],
   "source": [
    "# your source code below\n",
    "\n",
    "\n",
    "\n",
    "\n",
    "\n"
   ]
  },
  {
   "cell_type": "code",
   "execution_count": null,
   "metadata": {},
   "outputs": [],
   "source": []
  },
  {
   "cell_type": "code",
   "execution_count": null,
   "metadata": {},
   "outputs": [],
   "source": []
  },
  {
   "cell_type": "code",
   "execution_count": null,
   "metadata": {},
   "outputs": [],
   "source": []
  },
  {
   "cell_type": "code",
   "execution_count": null,
   "metadata": {},
   "outputs": [],
   "source": []
  },
  {
   "cell_type": "raw",
   "metadata": {},
   "source": [
    "**Expected Output**: \n",
    "1)\n",
    "0     7\n",
    "1    11\n",
    "2    13\n",
    "3    17\n",
    "dtype: int64\n",
    "\n",
    "2)\n",
    "0    100.0\n",
    "1    100.0\n",
    "2    100.0\n",
    "3    100.0\n",
    "4    100.0\n",
    "dtype: float64\n",
    "\n",
    "\n",
    "3) # may not be same \n",
    "count    20.000000\n",
    "mean     42.450000\n",
    "std      27.124421\n",
    "min       2.000000\n",
    "25%      26.750000\n",
    "50%      37.000000\n",
    "75%      59.000000\n",
    "max      99.000000\n",
    "dtype: float64\n",
    "\n",
    "4)\n",
    "Julie       98.6\n",
    "Charlie     98.9\n",
    "Sam        100.2\n",
    "Andrea      97.9\n",
    "dtype: float64\n",
    "\n",
    "5)\n",
    "Julie       98.6\n",
    "Charlie     98.9\n",
    "Sam        100.2\n",
    "Andrea      97.9\n",
    "dtype: float64"
   ]
  },
  {
   "cell_type": "code",
   "execution_count": null,
   "metadata": {},
   "outputs": [],
   "source": []
  },
  {
   "cell_type": "markdown",
   "metadata": {},
   "source": [
    "## Task 2: 7.23(Pandas: DataFrames) \n",
    "\n",
    "Perform the following tasks with pandas DataFrames:\n",
    "1. Create a  DataFrame named  *temperatures* from a dictionary of three temperature readings each for 'Maxine', 'James', and 'Amanda'.\n",
    "2. Recreate the DataFrame *temperatures*  in Part (1) with custom indices using the  keyword argument and a list containing 'Morning', 'Afternoon', and 'Evening'.\n",
    "3. Select from  *temperatures* the column of temperature readings for 'Maxine'.\n",
    "4. Select from *temperatures* the row of 'Morning' temperature readings.\n",
    "5. Select from *temperatures* the rows for  'Morning' and'Evening'  temperature readings.\n",
    "6. Select from *temperatures* the columns of temperature readings for  'Amanda' and 'Maxine'.\n",
    "7. Select from *temperatures* the elements for  'Amanda' and 'Maxine'  in the  'Morning' and 'Afternoon'.\n",
    "8. Use the *describe* method to produce *temperatures*’ descriptive statistics.\n",
    "9. Transpose *temperatures*.\n",
    "10. Sort *temperatures* so that its column names are in alphabetical order."
   ]
  },
  {
   "cell_type": "code",
   "execution_count": null,
   "metadata": {},
   "outputs": [],
   "source": []
  },
  {
   "cell_type": "code",
   "execution_count": null,
   "metadata": {},
   "outputs": [],
   "source": []
  },
  {
   "cell_type": "code",
   "execution_count": 14,
   "metadata": {},
   "outputs": [],
   "source": [
    "temps = {\n",
    "    'Maxine': [98.6, 96.9, 97.7], \n",
    "    'James': [98.9, 100.3, 101.1], \n",
    "    'Amanda': [98.5, 98.3, 98.7]\n",
    "}"
   ]
  },
  {
   "cell_type": "code",
   "execution_count": 15,
   "metadata": {},
   "outputs": [],
   "source": [
    "# 1. Create a DataFrame named temperatures from a dictionary of three temperature readings each for 'Maxine', 'James', and 'Amanda'.\n",
    "\n",
    "\n"
   ]
  },
  {
   "cell_type": "raw",
   "metadata": {},
   "source": [
    "**Expected Output**: \n",
    "\n",
    "1)\n",
    "\tMaxine\tJames\tAmanda\n",
    "0\t98.6\t98.9\t98.5\n",
    "1\t96.9\t100.3\t98.3\n",
    "2\t97.7\t101.1\t98.7"
   ]
  },
  {
   "cell_type": "code",
   "execution_count": null,
   "metadata": {},
   "outputs": [],
   "source": []
  },
  {
   "cell_type": "code",
   "execution_count": 16,
   "metadata": {},
   "outputs": [],
   "source": [
    "# 2. Recreate the DataFrame temperatures in Part (1) with custom indices using the keyword argument and a list containing 'Morning', 'Afternoon', and 'Evening'.\n",
    "\n"
   ]
  },
  {
   "cell_type": "raw",
   "metadata": {},
   "source": [
    "**Expected Output**: \n",
    "2)\n",
    "\n",
    "          Maxine\tJames\tAmanda\n",
    "Morning\t     98.6\t98.9\t98.5\n",
    "Afternoon\t 96.9\t100.3\t98.3\n",
    "Evening\t     97.7\t101.1\t98.7"
   ]
  },
  {
   "cell_type": "code",
   "execution_count": null,
   "metadata": {},
   "outputs": [],
   "source": []
  },
  {
   "cell_type": "code",
   "execution_count": 17,
   "metadata": {},
   "outputs": [],
   "source": [
    "#3. Select from temperatures the column of temperature readings for 'Maxine'.\n",
    "\n"
   ]
  },
  {
   "cell_type": "raw",
   "metadata": {},
   "source": [
    "**Expected Output**: \n",
    "\n",
    "3)\n",
    "Morning      98.6\n",
    "Afternoon    96.9\n",
    "Evening      97.7\n",
    "Name: Maxine, dtype: float64\n"
   ]
  },
  {
   "cell_type": "code",
   "execution_count": null,
   "metadata": {},
   "outputs": [],
   "source": []
  },
  {
   "cell_type": "code",
   "execution_count": 18,
   "metadata": {},
   "outputs": [],
   "source": [
    "#4. Select from temperatures the row of 'Morning' temperature readings.\n",
    "\n"
   ]
  },
  {
   "cell_type": "raw",
   "metadata": {},
   "source": [
    "**Expected Output**: \n",
    "\n",
    "4)\n",
    "Maxine    98.6\n",
    "James     98.9\n",
    "Amanda    98.5\n",
    "Name: Morning, dtype: float64\n"
   ]
  },
  {
   "cell_type": "code",
   "execution_count": null,
   "metadata": {},
   "outputs": [],
   "source": []
  },
  {
   "cell_type": "code",
   "execution_count": 19,
   "metadata": {},
   "outputs": [],
   "source": [
    "# 5. Select from temperatures the rows for 'Morning' and'Evening' temperature readings.\n",
    "\n"
   ]
  },
  {
   "cell_type": "raw",
   "metadata": {},
   "source": [
    "**Expected Output**: \n",
    "\n",
    "5)\n",
    "    \tMaxine\tJames\tAmanda\n",
    "Morning\t98.6\t98.9\t98.5\n",
    "Evening\t97.7\t101.1\t98.7"
   ]
  },
  {
   "cell_type": "code",
   "execution_count": null,
   "metadata": {},
   "outputs": [],
   "source": []
  },
  {
   "cell_type": "code",
   "execution_count": 20,
   "metadata": {},
   "outputs": [],
   "source": [
    "# 6. Select from temperatures the columns of temperature readings for 'Amanda' and 'Maxine'.\n",
    "\n"
   ]
  },
  {
   "cell_type": "raw",
   "metadata": {},
   "source": [
    "**Expected Output**: \n",
    "\n",
    "6)\n",
    "\t      Amanda\tMaxine\n",
    "Morning\t   98.5\t    98.6\n",
    "Afternoon  98.3\t    96.9\n",
    "Evening\t   98.7\t    97.7"
   ]
  },
  {
   "cell_type": "code",
   "execution_count": null,
   "metadata": {},
   "outputs": [],
   "source": []
  },
  {
   "cell_type": "code",
   "execution_count": 21,
   "metadata": {},
   "outputs": [],
   "source": [
    "# 7. Select from temperatures the elements for 'Amanda' and 'Maxine' in the 'Morning' and 'Afternoon'.\n",
    "\n",
    "\n"
   ]
  },
  {
   "cell_type": "raw",
   "metadata": {},
   "source": [
    "**Expected Output**: \n",
    "\n",
    "7)\n",
    "\t      Amanda\tMaxine\n",
    "Morning\t   98.5\t    98.6\n",
    "Afternoon  98.3\t    96.9"
   ]
  },
  {
   "cell_type": "code",
   "execution_count": null,
   "metadata": {},
   "outputs": [],
   "source": []
  },
  {
   "cell_type": "code",
   "execution_count": 22,
   "metadata": {},
   "outputs": [],
   "source": [
    "# 8. Use the describe method to produce temperatures’ descriptive statistics.\n",
    "\n",
    "\n"
   ]
  },
  {
   "cell_type": "raw",
   "metadata": {},
   "source": [
    "**Expected Output**: \n",
    "\n",
    "8)\n",
    "        \tMaxine\t  James\t   Amanda\n",
    "count\t3.000000\t3.000000\t3.0\n",
    "mean\t97.733333\t100.100000\t98.5\n",
    "std\t    0.850490\t1.113553\t0.2\n",
    "min\t    96.900000\t98.900000\t98.3\n",
    "25%\t    97.300000\t99.600000\t98.4\n",
    "50%\t    97.700000\t100.300000\t98.5\n",
    "75%   \t98.150000\t100.700000\t98.6\n",
    "max\t    98.600000\t101.100000\t98.7"
   ]
  },
  {
   "cell_type": "code",
   "execution_count": null,
   "metadata": {},
   "outputs": [],
   "source": []
  },
  {
   "cell_type": "code",
   "execution_count": 23,
   "metadata": {},
   "outputs": [],
   "source": [
    "# 9. Transpose temperatures.\n",
    "\n",
    "\n"
   ]
  },
  {
   "cell_type": "raw",
   "metadata": {},
   "source": [
    "**Expected Output**: \n",
    "\n",
    "9)\n",
    "\tMorning\tAfternoon\tEvening\n",
    "Maxine\t98.6\t96.9\t97.7\n",
    "James\t98.9\t100.3\t101.1\n",
    "Amanda\t98.5\t98.3\t98.7"
   ]
  },
  {
   "cell_type": "code",
   "execution_count": null,
   "metadata": {},
   "outputs": [],
   "source": []
  },
  {
   "cell_type": "code",
   "execution_count": 24,
   "metadata": {},
   "outputs": [],
   "source": [
    "#  10. Sort *temperatures* so that its column names are in alphabetical order.\n",
    "\n",
    "\n"
   ]
  },
  {
   "cell_type": "raw",
   "metadata": {},
   "source": [
    "**Expected Output**: \n",
    "\n",
    "10)\n",
    "\t      Amanda\tJames\tMaxine\n",
    "Morning\t   98.5\t    98.9\t98.6\n",
    "Afternoon\t98.3\t100.3\t96.9\n",
    "Evening\t    98.7\t101.1\t97.7"
   ]
  },
  {
   "cell_type": "code",
   "execution_count": null,
   "metadata": {},
   "outputs": [],
   "source": []
  }
 ],
 "metadata": {
  "coursera": {
   "course_slug": "python-text-mining",
   "graded_item_id": "r35En",
   "launcher_item_id": "tCVfW",
   "part_id": "NTVgL"
  },
  "kernelspec": {
   "display_name": "Python 3",
   "language": "python",
   "name": "python3"
  },
  "language_info": {
   "codemirror_mode": {
    "name": "ipython",
    "version": 3
   },
   "file_extension": ".py",
   "mimetype": "text/x-python",
   "name": "python",
   "nbconvert_exporter": "python",
   "pygments_lexer": "ipython3",
   "version": "3.11.5"
  }
 },
 "nbformat": 4,
 "nbformat_minor": 4
}
