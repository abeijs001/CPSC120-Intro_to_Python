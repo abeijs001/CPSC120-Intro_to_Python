{
 "cells": [
  {
   "cell_type": "markdown",
   "metadata": {},
   "source": [
    "# CPSC120: Bonus Program - OOP2: Inheritance\n",
    "\n",
    "In this programming assignment you will complete the following tasks with python. \n",
    "\n",
    "You will create an inheritance hierarchy that a bank might use to represent customer bank accounts.\n",
    "- There will be three classes: Account (base class), SavingsAccount and CheckingAcount\n",
    "- All customers at this bank can deposit money into their accounts and withdraw money from their accounts.\n",
    "- SavingsAccounts will earn interest on the money they hold.\n",
    "- CheckingAccounts don’t earn interest and charge a fee per transaction."
   ]
  },
  {
   "cell_type": "markdown",
   "metadata": {},
   "source": [
    "## Account Class\n",
    "\n",
    "The Account class is defined as follows"
   ]
  },
  {
   "cell_type": "code",
   "execution_count": 1,
   "metadata": {
    "tags": []
   },
   "outputs": [],
   "source": [
    "# account.py\n",
    "\"\"\"Account class definition.\"\"\"\n",
    "from decimal import Decimal\n",
    "\n",
    "class Account:\n",
    "    \"\"\"Account class for maintaining a bank account balance.\"\"\"\n",
    "    \n",
    "    def __init__(self, name, balance):\n",
    "        \"\"\"Initialize an Account object.\"\"\"\n",
    "\n",
    "        # if balance is less than 0.00, raise an exception\n",
    "        if balance < Decimal('0.00'):\n",
    "            raise ValueError('Initial balance must be >= to 0.00.')\n",
    "\n",
    "        self._name = name\n",
    "        self._balance = balance\n",
    "        \n",
    "    @property\n",
    "    def name(self):\n",
    "        return self._name\n",
    "    \n",
    "    \n",
    "    @property\n",
    "    def balance(self):\n",
    "        return self._balance\n",
    "\n",
    "    def deposit(self, amount):\n",
    "        \"\"\"Deposit money to the account.\"\"\"\n",
    "\n",
    "        # if amount is less than 0.00, raise an exception\n",
    "        if amount < Decimal('0.00'):\n",
    "            raise ValueError('amount must be positive.')\n",
    "\n",
    "        self._balance += amount\n",
    "\n",
    "    def withdraw(self, amount):\n",
    "        \"\"\"Withdraw money from the account.\"\"\"\n",
    "\n",
    "        # if amount is greater than balance, raise an exception\n",
    "        if amount > self._balance:\n",
    "            raise ValueError('amount must be <= to balance.')\n",
    "        elif amount < Decimal('0.00'):\n",
    "            raise ValueError('amount must be positive.')\n",
    "\n",
    "        self._balance -= amount\n",
    "        \n",
    "    def __repr__(self):\n",
    "        return (f'Account:\\n'+f'name={self.name}\\nbalance={self.balance}')"
   ]
  },
  {
   "cell_type": "code",
   "execution_count": 2,
   "metadata": {
    "tags": []
   },
   "outputs": [
    {
     "name": "stdout",
     "output_type": "stream",
     "text": [
      "Account:\n",
      "name=Bob Greem\n",
      "balance=300.00 \n",
      "\n",
      "Balance after depositing $100.00:  400.00\n",
      "Balance after withdrawing $100.00:  300.00\n"
     ]
    }
   ],
   "source": [
    "account = Account('Bob Greem', Decimal('300.00'))\n",
    "print(account,'\\n')\n",
    "\n",
    "account.deposit(Decimal('100.00'))\n",
    "print(\"Balance after depositing $100.00: \", account.balance)\n",
    "\n",
    "account.withdraw(Decimal('100.00'))\n",
    "print(\"Balance after withdrawing $100.00: \", account.balance)"
   ]
  },
  {
   "cell_type": "raw",
   "metadata": {},
   "source": [
    "**Output**: \n",
    "\n",
    "Account:  Account(name=Bob Greem, balance=300.00)\n",
    "Balance after depositing $100.00:  400.00\n",
    "Balance after withdrawing $100.00:  300.00\n"
   ]
  },
  {
   "cell_type": "code",
   "execution_count": null,
   "metadata": {},
   "outputs": [],
   "source": []
  },
  {
   "cell_type": "markdown",
   "metadata": {},
   "source": [
    "## Task 1: SavingsAccount Class\n",
    "\n",
    "Define a SavingsAccount class that inherits Account class:\n",
    "- A  SavingsAccount should also include a property indicating the interest rate. \n",
    "- A SavingsAccount should have __init__ method that also includes interest rate\n",
    "- A SavingsAccount calculate_interest’s method should return the Decimal result of multiplying the interest rate by the account balance.  \n",
    "- A SavingsAccount should inherit deposit and withdraw methods without redefining them.\n",
    "- A SavingsAccount should have __repr__ to return a string representation of SavingsAccount"
   ]
  },
  {
   "cell_type": "code",
   "execution_count": 3,
   "metadata": {},
   "outputs": [],
   "source": [
    "# your source code below\n",
    "\n",
    "\"\"\"SavingsAccount class definition.\"\"\"\n",
    "\n",
    "\n",
    "\n"
   ]
  },
  {
   "cell_type": "markdown",
   "metadata": {},
   "source": [
    "## Task 2: Testing SavingsAccount \n",
    "\n",
    "- Create an object of SavingsAccount class with the following inputs.\n",
    "\n",
    "        name = 'Bob Greem', balance = 300.00, interest_rate = 0.03\n",
    "\n",
    "- Call calculate_interest method and save the interest account in a variable.\n",
    "- Call deposit method (input: should be the interest amount saved in the previous step) and print out the balance ."
   ]
  },
  {
   "cell_type": "code",
   "execution_count": 4,
   "metadata": {},
   "outputs": [
    {
     "name": "stdout",
     "output_type": "stream",
     "text": [
      "SavingsAccount:\n",
      "name=Bob Greem\n",
      "balance=300.00\n",
      "rate = 0.03\n",
      "\n",
      "Balance after interest included:  309.00\n"
     ]
    }
   ],
   "source": [
    "# your source code below\n",
    "\n",
    "\"\"\"SavingsAccount class testing.\"\"\"\n",
    "\n",
    "\n",
    "\n"
   ]
  },
  {
   "cell_type": "raw",
   "metadata": {},
   "source": [
    "**Sample output**: \n",
    "\n",
    "SavingsAccount:\n",
    "name=Bob Greem\n",
    "balance=300.00\n",
    "rate = 0.03\n",
    "\n",
    "Balance after interest included:  309.00"
   ]
  },
  {
   "cell_type": "code",
   "execution_count": null,
   "metadata": {},
   "outputs": [],
   "source": []
  },
  {
   "cell_type": "markdown",
   "metadata": {},
   "source": [
    "## Task 3: CheckingAccount Class \n",
    "\n",
    "Define a CheckingAccount class that inherits Account class:\n",
    "- A CheckingAccount should include a Decimal data attribute that represents the fee charged per transaction.\n",
    "- A CheckingAccount should have __init__ method that also includes transaction fee.\n",
    "- CheckingAccount Class should override methods deposit and withdraw so that they subtract the fee from the account balance whenever either transaction is performed successfully. \n",
    "- A CheckingAccount should have __repr__ to return a string representation of CheckingAccount\n"
   ]
  },
  {
   "cell_type": "code",
   "execution_count": 5,
   "metadata": {},
   "outputs": [],
   "source": [
    "# your source code below\n",
    "\n",
    "\"\"\"CheckingAccount class definition.\"\"\"\n",
    "\n",
    "\n",
    "\n",
    "      \n"
   ]
  },
  {
   "cell_type": "markdown",
   "metadata": {},
   "source": [
    "## Task 4: Testing CheckingAccount \n",
    "\n",
    "- Create an object of CheckingAccount class with the following inputs.\n",
    "\n",
    "        name = 'Bob Greem', balance = 300.00, transaction_fee = 0.50'\n",
    "- Call deposit method (input: 100.00) and print out the balance.\n",
    "- Call withdraw method (input: 100.00) and print out the balance ."
   ]
  },
  {
   "cell_type": "code",
   "execution_count": 1,
   "metadata": {},
   "outputs": [
    {
     "data": {
      "text/plain": [
       "'CheckingAccount class testing.'"
      ]
     },
     "execution_count": 1,
     "metadata": {},
     "output_type": "execute_result"
    }
   ],
   "source": [
    "# your source code below\n",
    "\n",
    "\"\"\"CheckingAccount class testing.\"\"\"\n",
    "\n",
    "\n",
    "\n"
   ]
  },
  {
   "cell_type": "raw",
   "metadata": {},
   "source": [
    "**Expected Output**: \n",
    "\n",
    "CheckingAccount:\n",
    "name=Bob Greem\n",
    "balance=300.00\n",
    "transaaction = 0.50\n",
    "\n",
    "Balance after depositing $100.00 with $.50 transaction fee 399.50\n",
    "\n",
    "Balance after withdrawing $100.00 with $.50 transaction fee 299.00"
   ]
  },
  {
   "cell_type": "code",
   "execution_count": null,
   "metadata": {},
   "outputs": [],
   "source": []
  }
 ],
 "metadata": {
  "coursera": {
   "course_slug": "python-text-mining",
   "graded_item_id": "r35En",
   "launcher_item_id": "tCVfW",
   "part_id": "NTVgL"
  },
  "kernelspec": {
   "display_name": "Python 3 (ipykernel)",
   "language": "python",
   "name": "python3"
  },
  "language_info": {
   "codemirror_mode": {
    "name": "ipython",
    "version": 3
   },
   "file_extension": ".py",
   "mimetype": "text/x-python",
   "name": "python",
   "nbconvert_exporter": "python",
   "pygments_lexer": "ipython3",
   "version": "3.11.7"
  }
 },
 "nbformat": 4,
 "nbformat_minor": 4
}
