{
 "cells": [
  {
   "cell_type": "markdown",
   "metadata": {},
   "source": [
    "# CPSC120: Bonus Program - OOP3: Square DataClass\n",
    "\n",
    "In this programming assignment you will complete the following tasks with python. "
   ]
  },
  {
   "cell_type": "markdown",
   "metadata": {},
   "source": [
    "## Task 1: (Square Class) \n",
    "\n",
    "Write a dataclass that implements a Square shape. \n",
    "\n",
    "- The class should contain a side property. \n",
    "- The class should have the following read-only properties: \n",
    "  - perimeter returns  4 × side. \n",
    "  - area returns  side × side. \n",
    "  - diagonal returns the square root of the expression  2 x side x side.\n",
    "\n",
    "Note: The Square class is now decorated with @dataclass which automatically generates the __init__, __repr__, and other special methods such as __eq__ and __ne__."
   ]
  },
  {
   "cell_type": "code",
   "execution_count": 4,
   "metadata": {},
   "outputs": [
    {
     "data": {
      "text/plain": [
       "'Square class definition using dataclasses.'"
      ]
     },
     "execution_count": 4,
     "metadata": {},
     "output_type": "execute_result"
    }
   ],
   "source": [
    "\n",
    "# your source code below\n",
    "\"\"\"Square class definition using dataclasses.\"\"\"\n",
    "\n",
    "\n",
    "\n",
    "\n",
    "\n",
    "        "
   ]
  },
  {
   "cell_type": "code",
   "execution_count": null,
   "metadata": {},
   "outputs": [],
   "source": []
  },
  {
   "cell_type": "markdown",
   "metadata": {},
   "source": [
    "## Task 2 (Testing Square Class): \n",
    "\n",
    "- Create a square objec sq1 with side=10, print out object information, side, area, perimeter and diagonal\n",
    "- Create a second square objec sq3 with side=10\n",
    "- Create a third square objec sq3 with side=20\n",
    "- Compare sq1, sq2 and sq3"
   ]
  },
  {
   "cell_type": "code",
   "execution_count": 5,
   "metadata": {},
   "outputs": [],
   "source": [
    "# your source code below\n",
    "\n",
    "\n",
    "\n"
   ]
  },
  {
   "cell_type": "code",
   "execution_count": null,
   "metadata": {},
   "outputs": [],
   "source": []
  },
  {
   "cell_type": "raw",
   "metadata": {},
   "source": [
    "**Expected Output**: \n",
    "\n",
    "object:  Square(side=10)\n",
    "Side:  10\n",
    "Area:  100\n",
    "Perimeter:  40\n",
    "Diagonal:  14.142135623730951"
   ]
  },
  {
   "cell_type": "code",
   "execution_count": 6,
   "metadata": {},
   "outputs": [],
   "source": [
    "# your source code below\n",
    "\n"
   ]
  },
  {
   "cell_type": "raw",
   "metadata": {},
   "source": [
    "**Expected Output**: \n",
    "\n",
    "Sq1 Square(side=10)\n",
    "Sq2 Square(side=10)\n",
    "Sq3 Square(side=20)\n",
    "\n",
    "sq1 == sq2 ==> True\n",
    "sq1 == sq3 ==> False\n",
    "sq2 == sq3 ==> False"
   ]
  }
 ],
 "metadata": {
  "coursera": {
   "course_slug": "python-text-mining",
   "graded_item_id": "r35En",
   "launcher_item_id": "tCVfW",
   "part_id": "NTVgL"
  },
  "kernelspec": {
   "display_name": "Python 3 (ipykernel)",
   "language": "python",
   "name": "python3"
  },
  "language_info": {
   "codemirror_mode": {
    "name": "ipython",
    "version": 3
   },
   "file_extension": ".py",
   "mimetype": "text/x-python",
   "name": "python",
   "nbconvert_exporter": "python",
   "pygments_lexer": "ipython3",
   "version": "3.11.7"
  }
 },
 "nbformat": 4,
 "nbformat_minor": 4
}
