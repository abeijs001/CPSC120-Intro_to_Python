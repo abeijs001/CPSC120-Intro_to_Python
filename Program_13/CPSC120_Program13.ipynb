{
 "cells": [
  {
   "cell_type": "markdown",
   "metadata": {},
   "source": [
    "# CPSC120: Program  13 - String Format \n",
    "\n",
    "In this programming assignment you will complete the following tasks with python. "
   ]
  },
  {
   "cell_type": "markdown",
   "metadata": {},
   "source": [
    "## Task 1: User Profile Display:\n",
    "\n",
    "- The display_user_profile function formats and displays user profile information using f-strings.\n",
    "- The profile information includes the username, age, and email."
   ]
  },
  {
   "cell_type": "code",
   "execution_count": 4,
   "metadata": {},
   "outputs": [],
   "source": [
    "def display_user_profile(username, age, email):\n",
    "    # Format and display user profile information\n",
    "    # your source code below\n",
    "    pass\n",
    "    \n",
    "    \n",
    "    "
   ]
  },
  {
   "cell_type": "code",
   "execution_count": 5,
   "metadata": {},
   "outputs": [],
   "source": [
    "# Test user profile display\n",
    "display_user_profile(\"Alice\", 30, \"alice@example.com\")    "
   ]
  },
  {
   "cell_type": "code",
   "execution_count": null,
   "metadata": {},
   "outputs": [],
   "source": []
  },
  {
   "cell_type": "raw",
   "metadata": {},
   "source": [
    "**Expected Output**: \n",
    "\n",
    "User Profile:\n",
    "Name: Alice\n",
    "Age: 30\n",
    "Email: alice@example.com"
   ]
  },
  {
   "cell_type": "markdown",
   "metadata": {},
   "source": [
    "## Task 2: Invoice Generation:\n",
    "\n",
    "- The generate_invoice function creates an invoice for a customer with itemized details.\n",
    "\n",
    "- It calculates the total amount and formats the invoice using f-strings, ensuring proper alignment of item names and prices.\n",
    "- The invoice includes a header, itemized body, and footer with the total amount.\n",
    "\n",
    "e.g., \n",
    "- customer = 'Alice', \n",
    "- itemsitems = [(\"Widget\", 19.99), (\"Gadget\", 29.95), (\"Thingamajig\", 5.50)]\n",
    "\n",
    "Detailed output format can be seen below"
   ]
  },
  {
   "cell_type": "code",
   "execution_count": 6,
   "metadata": {},
   "outputs": [],
   "source": [
    "def generate_invoice(customer_name, items):\n",
    "    # your source code below\n",
    "    pass    \n",
    "    \n",
    "    \n",
    "    \n",
    "    "
   ]
  },
  {
   "cell_type": "code",
   "execution_count": 7,
   "metadata": {
    "tags": []
   },
   "outputs": [],
   "source": [
    "# Test invoice generation\n",
    "items = [(\"Widget\", 19.99), (\"Gadget\", 29.95), (\"Thingamajig\", 5.50)]\n",
    "generate_invoice(\"Alice\", items)"
   ]
  },
  {
   "cell_type": "code",
   "execution_count": null,
   "metadata": {},
   "outputs": [],
   "source": []
  },
  {
   "cell_type": "raw",
   "metadata": {},
   "source": [
    "**Expected Output**:\n",
    "\n",
    "Invoice for Alice\n",
    "==============================\n",
    "Widget               $  19.99\n",
    "Gadget               $  29.95\n",
    "Thingamajig          $   5.50\n",
    "==============================\n",
    "Total Amount: $55.44"
   ]
  },
  {
   "cell_type": "code",
   "execution_count": null,
   "metadata": {},
   "outputs": [],
   "source": []
  }
 ],
 "metadata": {
  "coursera": {
   "course_slug": "python-text-mining",
   "graded_item_id": "r35En",
   "launcher_item_id": "tCVfW",
   "part_id": "NTVgL"
  },
  "kernelspec": {
   "display_name": "Python 3",
   "language": "python",
   "name": "python3"
  },
  "language_info": {
   "codemirror_mode": {
    "name": "ipython",
    "version": 3
   },
   "file_extension": ".py",
   "mimetype": "text/x-python",
   "name": "python",
   "nbconvert_exporter": "python",
   "pygments_lexer": "ipython3",
   "version": "3.11.5"
  }
 },
 "nbformat": 4,
 "nbformat_minor": 4
}
