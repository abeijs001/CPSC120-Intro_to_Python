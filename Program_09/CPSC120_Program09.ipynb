{
 "cells": [
  {
   "cell_type": "markdown",
   "metadata": {},
   "source": [
    "# CPSC120: Program  09 - Lists and Tuples\n",
    "\n",
    "In this programming assignment you will complete the following tasks with python. \n",
    "\n",
    "(Summarizing Letters in a String) Write a function  that receives a string and returns a list of tuples containing the unique letters and their frequencies in the string. Test your function and display each letter with its frequency. Your function should ignore case sensitivity (that is,  and  are the same) and ignore spaces and punctuation. When done, write a statement that says whether the string has all the letters of the alphabet.\n"
   ]
  },
  {
   "cell_type": "markdown",
   "metadata": {},
   "source": [
    "## Task 1: \n",
    "\n",
    "Write a function  that receives a string and returns a list of tuples containing the unique letters and their frequencies in the string. Your function should ignore case sensitivity (that is,  and  are the same) and ignore spaces and punctuation.\n",
    "\n",
    "Test your function and display each letter with its frequency. "
   ]
  },
  {
   "cell_type": "code",
   "execution_count": 22,
   "metadata": {},
   "outputs": [],
   "source": [
    "ALPHABET = 'abcdefghijklmnopqrstuvwxyz'"
   ]
  },
  {
   "cell_type": "code",
   "execution_count": 23,
   "metadata": {},
   "outputs": [],
   "source": [
    "def summarize_letters(input):\n",
    "\n",
    "    # your source code below :(notice you should remove pass when implementing)\n",
    "    pass\n",
    "\n",
    "\n",
    "\n",
    "\n",
    "\n"
   ]
  },
  {
   "cell_type": "code",
   "execution_count": 24,
   "metadata": {},
   "outputs": [],
   "source": [
    "panagram = 'The Quick Brown Fox Jumps Over The Lazy Dog'\n",
    "summary = summarize_letters(panagram)\n",
    "\n",
    "# display counts\n",
    "# your source code below\n",
    "\n",
    "\n",
    "\n",
    "\n",
    "\n",
    "\n"
   ]
  },
  {
   "cell_type": "raw",
   "metadata": {},
   "source": [
    "**Expected Output**: \n",
    "\n",
    "a: 1\n",
    "b: 1\n",
    "c: 1\n",
    "d: 1\n",
    "e: 3\n",
    "f: 1\n",
    "g: 1\n",
    "h: 2\n",
    "i: 1\n",
    "j: 1\n",
    "k: 1\n",
    "l: 1\n",
    "m: 1\n",
    "n: 1\n",
    "o: 4\n",
    "p: 1\n",
    "q: 1\n",
    "r: 2\n",
    "s: 1\n",
    "t: 2\n",
    "u: 2\n",
    "v: 1\n",
    "w: 1\n",
    "x: 1\n",
    "y: 1\n",
    "z: 1w: 1\r\n",
    "x: 1\r\n",
    "y: 1\r\n",
    "z: 1\r\n",
    "\n"
   ]
  },
  {
   "cell_type": "code",
   "execution_count": null,
   "metadata": {},
   "outputs": [],
   "source": []
  },
  {
   "cell_type": "markdown",
   "metadata": {},
   "source": [
    "## Task 2: \n",
    "\n",
    "Write statements to check whether the string has all the letters of the alphabet."
   ]
  },
  {
   "cell_type": "code",
   "execution_count": null,
   "metadata": {},
   "outputs": [],
   "source": []
  },
  {
   "cell_type": "code",
   "execution_count": 25,
   "metadata": {},
   "outputs": [],
   "source": [
    "# your source code below \n",
    "\n",
    "\n",
    "\n",
    "\n",
    "\n",
    "\n"
   ]
  },
  {
   "cell_type": "raw",
   "metadata": {},
   "source": [
    "**Expected Output**\n",
    "\n",
    "\"The Quick Brown Fox Jumps Over The Lazy Dog\" contains all the letters in the alphabet"
   ]
  }
 ],
 "metadata": {
  "coursera": {
   "course_slug": "python-text-mining",
   "graded_item_id": "r35En",
   "launcher_item_id": "tCVfW",
   "part_id": "NTVgL"
  },
  "kernelspec": {
   "display_name": "Python 3 (ipykernel)",
   "language": "python",
   "name": "python3"
  },
  "language_info": {
   "codemirror_mode": {
    "name": "ipython",
    "version": 3
   },
   "file_extension": ".py",
   "mimetype": "text/x-python",
   "name": "python",
   "nbconvert_exporter": "python",
   "pygments_lexer": "ipython3",
   "version": "3.11.7"
  }
 },
 "nbformat": 4,
 "nbformat_minor": 4
}
