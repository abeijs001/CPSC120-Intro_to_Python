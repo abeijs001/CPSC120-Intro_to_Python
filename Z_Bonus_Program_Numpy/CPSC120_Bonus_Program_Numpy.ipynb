{
 "cells": [
  {
   "cell_type": "markdown",
   "metadata": {},
   "source": [
    "# CPSC120: Bonus Program - Numpy\n",
    "\n",
    "In this programming assignment you will complete the following tasks with python. "
   ]
  },
  {
   "cell_type": "code",
   "execution_count": 1,
   "metadata": {},
   "outputs": [],
   "source": [
    "import numpy as np"
   ]
  },
  {
   "cell_type": "markdown",
   "metadata": {},
   "source": [
    "## Task 1: (Broadcasting) \n",
    "\n",
    "Use  to create a 2-by-2  containing the numbers 0–3. Use broadcasting to perform each of the following operations on the original array:\n",
    "- Cube every element of the\n",
    "- Add 7 to every element of the\n",
    "- Multiply every element of the array by 2.\n"
   ]
  },
  {
   "cell_type": "code",
   "execution_count": 2,
   "metadata": {},
   "outputs": [],
   "source": [
    "numbers = np.array([[0, 1], [2, 3]])"
   ]
  },
  {
   "cell_type": "code",
   "execution_count": 3,
   "metadata": {},
   "outputs": [],
   "source": [
    "# your source code below\n",
    "\n",
    "\n",
    "\n",
    "\n",
    "\n",
    "\n"
   ]
  },
  {
   "cell_type": "raw",
   "metadata": {},
   "source": [
    "**Expected Output**: \n",
    "\n",
    "a)\n",
    "array([[ 0,  1],\n",
    "       [ 8, 27]])\n",
    "\n",
    "b)\n",
    "array([[ 7,  8],\n",
    "       [ 9, 10]])\n",
    "\n",
    "c)\n",
    "array([[0, 2],\n",
    "       [4, 6]])"
   ]
  },
  {
   "cell_type": "code",
   "execution_count": null,
   "metadata": {},
   "outputs": [],
   "source": []
  },
  {
   "cell_type": "markdown",
   "metadata": {},
   "source": [
    "## Task 2: (Element-Wise  Multiplication) \n",
    "\n",
    "Create a 3-by-3  containing the even integers from  2 through 18. Create a second 3-by-3  containing the integers from 9 down to 1, then multiply the first  by the second."
   ]
  },
  {
   "cell_type": "code",
   "execution_count": 4,
   "metadata": {},
   "outputs": [],
   "source": [
    "# your source code below\n",
    "\n",
    "\n",
    "\n",
    "\n",
    "\n",
    "\n"
   ]
  },
  {
   "cell_type": "code",
   "execution_count": null,
   "metadata": {},
   "outputs": [],
   "source": []
  },
  {
   "cell_type": "raw",
   "metadata": {},
   "source": [
    "**Expected Output**: \n",
    "\n",
    "array([[ 2,  4,  6],\n",
    "       [ 8, 10, 12],\n",
    "       [14, 16, 18]])\n",
    "\n",
    "array([[9, 8, 7],\n",
    "       [6, 5, 4],\n",
    "       [3, 2, 1]])\n",
    "\n",
    "array([[18, 32, 42],\n",
    "       [48, 50, 48],\n",
    "       [42, 32, 18]])"
   ]
  },
  {
   "cell_type": "code",
   "execution_count": null,
   "metadata": {},
   "outputs": [],
   "source": []
  },
  {
   "cell_type": "markdown",
   "metadata": {},
   "source": [
    "## Task 3: (Horizontal and Vertical Stacking) \n",
    "\n",
    "Create the two-dimensional arrays\n",
    "\n",
    "    array1=np.array([[0, 1], [2, 3]])\n",
    "    array2=np.array([[4, 5], [6, 7]])\n",
    "\n",
    "- Use vertical stacking to create the 4-by-2 array named array3 with  array1 stacked on top of array2\n",
    "- Use horizontal stacking to create the 2-by-4 array named array4 with array3 to the right of array1.\n",
    "- Use vertical stacking with two copies of array4 to create a 4-by-4 array5.\n",
    "- Use horizontal stacking with two copies of array3 to create a 4-by-4 array6."
   ]
  },
  {
   "cell_type": "code",
   "execution_count": 5,
   "metadata": {
    "tags": []
   },
   "outputs": [],
   "source": [
    "# your source code below\n",
    "\n",
    "\n",
    "\n",
    "\n",
    "\n",
    "\n",
    "\n"
   ]
  },
  {
   "cell_type": "code",
   "execution_count": null,
   "metadata": {},
   "outputs": [],
   "source": []
  },
  {
   "cell_type": "raw",
   "metadata": {},
   "source": [
    "**Expected Output**: \n",
    "\n",
    "a)\n",
    "array([[0, 1],\n",
    "       [2, 3],\n",
    "       [4, 5],\n",
    "       [6, 7]])\n",
    "\n",
    "b)\n",
    "array([[0, 1, 4, 5],\n",
    "       [2, 3, 6, 7]])\n",
    "c)\n",
    "array([[0, 1, 4, 5],\n",
    "       [2, 3, 6, 7],\n",
    "       [0, 1, 4, 5],\n",
    "       [2, 3, 6, 7]])\n",
    "d)\n",
    "array([[0, 1, 0, 1],\n",
    "       [2, 3, 2, 3],\n",
    "       [4, 5, 4, 5],\n",
    "       [6, 7, 6, 7]])"
   ]
  },
  {
   "cell_type": "code",
   "execution_count": null,
   "metadata": {},
   "outputs": [],
   "source": []
  },
  {
   "cell_type": "markdown",
   "metadata": {},
   "source": [
    "## Task 4: (Research and Use NumPy’s  Function) \n",
    "\n",
    "Research NumPy function , then use it to reimplement the previous task.\n"
   ]
  },
  {
   "cell_type": "code",
   "execution_count": 6,
   "metadata": {},
   "outputs": [],
   "source": [
    "# your source code below\n",
    "\n",
    "\n",
    "\n",
    "\n",
    "\n",
    "\n"
   ]
  },
  {
   "cell_type": "code",
   "execution_count": null,
   "metadata": {},
   "outputs": [],
   "source": []
  },
  {
   "cell_type": "raw",
   "metadata": {},
   "source": [
    "**Expected Output**: \n",
    "a)\n",
    "array([[0, 1],\n",
    "       [2, 3],\n",
    "       [4, 5],\n",
    "       [6, 7]])\n",
    "\n",
    "b)\n",
    "array([[0, 1, 4, 5],\n",
    "       [2, 3, 6, 7]])\n",
    "c)\n",
    "array([[0, 1, 4, 5],\n",
    "       [2, 3, 6, 7],\n",
    "       [0, 1, 4, 5],\n",
    "       [2, 3, 6, 7]])\n",
    "d)\n",
    "array([[0, 1, 0, 1],\n",
    "       [2, 3, 2, 3],\n",
    "       [4, 5, 4, 5],\n",
    "       [6, 7, 6, 7]])"
   ]
  }
 ],
 "metadata": {
  "coursera": {
   "course_slug": "python-text-mining",
   "graded_item_id": "r35En",
   "launcher_item_id": "tCVfW",
   "part_id": "NTVgL"
  },
  "kernelspec": {
   "display_name": "Python 3",
   "language": "python",
   "name": "python3"
  },
  "language_info": {
   "codemirror_mode": {
    "name": "ipython",
    "version": 3
   },
   "file_extension": ".py",
   "mimetype": "text/x-python",
   "name": "python",
   "nbconvert_exporter": "python",
   "pygments_lexer": "ipython3",
   "version": "3.11.5"
  }
 },
 "nbformat": 4,
 "nbformat_minor": 4
}
