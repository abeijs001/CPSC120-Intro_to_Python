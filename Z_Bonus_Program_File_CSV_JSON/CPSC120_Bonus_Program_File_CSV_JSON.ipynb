{
 "cells": [
  {
   "cell_type": "markdown",
   "metadata": {},
   "source": [
    "# CPSC120: Bonus Program - File: CSV and JSON\n",
    "\n",
    "In this programming assignment you will complete the following tasks with python. "
   ]
  },
  {
   "cell_type": "markdown",
   "metadata": {},
   "source": [
    "## Task 1: (Class Average: Writing Student Records to a CSV File)\n",
    "\n",
    "An instructor teaches a class in which each student takes three exams. The instructor would like to store this information in a file named \"grades.csv\" for later use. Write code that enables an instructor to enter each student’s first name and last name as strings and the student’s three exam grades as integers. Use the csv module to write each record into the \"grades.csv\" file. Each record should be a single line of text in the following CSV format:\n",
    "\n",
    "    firstname,lastname,exam1grade,exam2grade,exam3grade\n",
    "    "
   ]
  },
  {
   "cell_type": "code",
   "execution_count": 11,
   "metadata": {},
   "outputs": [],
   "source": [
    "import csv\n",
    "\n",
    "# your source code below\n",
    "\n",
    "\n",
    "\n"
   ]
  },
  {
   "cell_type": "raw",
   "metadata": {},
   "source": [
    "**Sample input**: \n",
    "\n",
    "Bob Jones 86 75 84\n",
    "Sue Smith 99 77 88\n",
    "Karen Doe 83 88 92\n",
    "-1"
   ]
  },
  {
   "cell_type": "code",
   "execution_count": null,
   "metadata": {},
   "outputs": [],
   "source": []
  },
  {
   "cell_type": "markdown",
   "metadata": {},
   "source": [
    "## Task 2: (Class Average: Writing a Gradebook Dictionary to a JSON File) \n",
    "\n",
    "Reimplement task1 using the json module to write the student information to the file in JSON format. For this task, create a dictionary of student data in the following format:\n",
    "\n",
    "    gradebook_dict = {'students': [student1dictionary, student2dictionary,...]}\n",
    "    \n",
    "Each dictionary in the list represents one student and contains the keys \n",
    "\n",
    "    'first_name', 'last_name', 'exam1', 'exam2', 'exam3', \n",
    "\n",
    "which map to the values representing each student’s first name (string), last name (string) and three exam scores (integers). Output the gradebook_dict  in JSON format to the file grades.json."
   ]
  },
  {
   "cell_type": "code",
   "execution_count": 10,
   "metadata": {},
   "outputs": [],
   "source": [
    "import csv\n",
    "\n",
    "# your source code below\n",
    "\n",
    "\n",
    "\n"
   ]
  },
  {
   "cell_type": "raw",
   "metadata": {},
   "source": [
    "**Sample input**: \n",
    "\n",
    "Bob Jones 86 75 84\n",
    "Sue Smith 99 77 88\n",
    "Karen Doe 83 88 92\n",
    "-1"
   ]
  },
  {
   "cell_type": "code",
   "execution_count": null,
   "metadata": {},
   "outputs": [],
   "source": []
  },
  {
   "cell_type": "markdown",
   "metadata": {},
   "source": [
    "## Task 3: (Class Average: Reading Student Records from a CSV File) \n",
    "\n",
    "Use the csv module to read the grades.csv file from task1. Display the data in tabular format."
   ]
  },
  {
   "cell_type": "code",
   "execution_count": 9,
   "metadata": {},
   "outputs": [],
   "source": [
    "import csv\n",
    "\n",
    "# your source code below\n",
    "\n",
    "\n",
    "\n"
   ]
  },
  {
   "cell_type": "raw",
   "metadata": {},
   "source": [
    "**Expected Output**: \n",
    "\n",
    "First     Last      Test1  Test2  Test3\n",
    "Bob       Jones        86     75     84\n",
    "Sue       Smith        99     77     88\n",
    "Karen     Doe          83     88     92"
   ]
  },
  {
   "cell_type": "code",
   "execution_count": null,
   "metadata": {},
   "outputs": [],
   "source": []
  },
  {
   "cell_type": "markdown",
   "metadata": {},
   "source": [
    "## Task 4: (Class Average: Reading a Gradebook Dictionary from a JSON File) \n",
    "\n",
    "Reimplement task2 using the json module to read the file \"grades.json\" created in task3. Display the data in tabular format, including an additional column showing each student’s average to the right of that student’s three exam grades and an additional row showing the class average on each exam below that exam’s column."
   ]
  },
  {
   "cell_type": "code",
   "execution_count": 8,
   "metadata": {},
   "outputs": [],
   "source": [
    "import csv\n",
    "\n",
    "# your source code below\n",
    "\n",
    "\n",
    "\n"
   ]
  },
  {
   "cell_type": "raw",
   "metadata": {},
   "source": [
    "**Expected Output**: \n",
    "\n",
    "First     Last      Test1  Test2  Test3  Average\n",
    "Bob       Jones        86     75     84    81.67\n",
    "Sue       Smith        99     77     88    88.00\n",
    "Karen     Doe          83     88     92    87.67\n",
    "Test Averages       89.33  80.00  80.00"
   ]
  }
 ],
 "metadata": {
  "coursera": {
   "course_slug": "python-text-mining",
   "graded_item_id": "r35En",
   "launcher_item_id": "tCVfW",
   "part_id": "NTVgL"
  },
  "kernelspec": {
   "display_name": "Python 3 (ipykernel)",
   "language": "python",
   "name": "python3"
  },
  "language_info": {
   "codemirror_mode": {
    "name": "ipython",
    "version": 3
   },
   "file_extension": ".py",
   "mimetype": "text/x-python",
   "name": "python",
   "nbconvert_exporter": "python",
   "pygments_lexer": "ipython3",
   "version": "3.11.7"
  }
 },
 "nbformat": 4,
 "nbformat_minor": 4
}
